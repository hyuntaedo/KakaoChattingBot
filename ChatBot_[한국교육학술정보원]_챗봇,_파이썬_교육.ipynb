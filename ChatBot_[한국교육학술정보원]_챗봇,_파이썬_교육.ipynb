{
  "nbformat": 4,
  "nbformat_minor": 0,
  "metadata": {
    "colab": {
      "name": "ChatBot-[한국교육학술정보원] 챗봇, 파이썬 교육.ipynb",
      "provenance": [],
      "collapsed_sections": [],
      "authorship_tag": "ABX9TyMVr4+W7sYdNidkkFkCCh9l",
      "include_colab_link": true
    },
    "kernelspec": {
      "name": "python3",
      "display_name": "Python 3"
    },
    "language_info": {
      "name": "python"
    }
  },
  "cells": [
    {
      "cell_type": "markdown",
      "metadata": {
        "id": "view-in-github",
        "colab_type": "text"
      },
      "source": [
        "<a href=\"https://colab.research.google.com/github/hyuntaedo/KakaoChattingBot/blob/main/ChatBot_%5B%ED%95%9C%EA%B5%AD%EA%B5%90%EC%9C%A1%ED%95%99%EC%88%A0%EC%A0%95%EB%B3%B4%EC%9B%90%5D_%EC%B1%97%EB%B4%87%2C_%ED%8C%8C%EC%9D%B4%EC%8D%AC_%EA%B5%90%EC%9C%A1.ipynb\" target=\"_parent\"><img src=\"https://colab.research.google.com/assets/colab-badge.svg\" alt=\"Open In Colab\"/></a>"
      ]
    },
    {
      "cell_type": "markdown",
      "metadata": {
        "id": "6sNYrzp3POuY"
      },
      "source": [
        "**줌(Zoom) 사용법**"
      ]
    },
    {
      "cell_type": "markdown",
      "metadata": {
        "id": "nVY97i98QbTl"
      },
      "source": [
        "1. 마이크 & 스피커\n",
        "- 음소거 / 음소거 해제\n",
        "    - 안될 때, 마이크선택에서 이어폰같은 경우는 선택을 해야한다.\n",
        "    - 스피커도 마찬가지\n",
        "- 비디오 설정\n",
        "    - 이와 동일\n",
        "- 화면공유\n",
        "    - 초록색버튼(화면공유) 누르면 나온다.\n",
        "        1. 공유할 화면 선택\n",
        "        2. 공유버튼 클릭\n",
        "- 소 회의실\n",
        "    - 팀별 활동할 때 사용(그룹별로 참여 가능)\n",
        "    "
      ]
    },
    {
      "cell_type": "markdown",
      "metadata": {
        "id": "OW27FDkYTw_4"
      },
      "source": [
        "# **교육의 목적**\n",
        "1. 챗봇 용어 및 형태 이해\n",
        "2. 챗봇 빌더 사용 이해\n",
        "3. 챗봇 실제 제작\n"
      ]
    },
    {
      "cell_type": "markdown",
      "metadata": {
        "id": "10w41oHsWYkL"
      },
      "source": [
        "**챗봇 용어**\n",
        "- 챗봇(Chatbot,ChattingBot,ChatterBot,TalkBot)\n",
        "    - 음성이나 문자로 인간과 대화를 해서 특정한 작업을 수행하도록 제작된 컴퓨터 프로그램\n",
        "    - 가장 중요한 것은 '대화' 를 한다는 것, 즉 프로그래밍 언어로 소통하던 것을 이제 자연어로 소통\n",
        "    - **필요성**\n",
        "        - 사용자는 궁금한 것이 있지만 답변할 사람이 없을 때(야간, 주말)\n",
        "        - 단순 / 반복적 / 낮은 수준의 답변에 필요\n",
        "    - 장점\n",
        "        - 반응이 즉각적이다.\n",
        "        - 고객이 원하는 시간에 소통 가능\n",
        "        - 개인화 된 대화가 가능\n",
        "        - 다운로드의 번거로움이 없음\n",
        "        - 인건비 절약에 유리\n",
        "        - 확장에 유리\n",
        "- 시나리오\n",
        "    - **예상하는/ 의도하는 대화의 흐름**\n",
        "    - **딥러닝 봇과 비교하는 하드코딩 봇(대칭)**\n",
        "- 인텐트\n",
        "    - 사용자의(말하는사람의) 의도   \n",
        "- 의도\n",
        "- 엔티티\n",
        "    - 인텐트를 제외한 문장의 여러요소, 즉 전달정보\n",
        "- 유사쿼리(발화패턴)\n",
        "    - 같은 의도이지만 다르게 표현된 말들\n",
        "- 페르소나\n",
        "    - 연극의 가면\n",
        "    - 챗봇에 부여한 캐릭터(이루다, 심심이 같은 캐릭터)\n",
        "    - 챗봇 성격과 목소리 부여하기\n",
        "- 멀티모달\n",
        "    - 청각 / 시각 / 그래픽 요소\n",
        "    - 보이스봇 / 디스플레이봇\n",
        "- 여러 챗봇들\n",
        "    - 엘리자\n",
        "    - 네슬레 버추얼 휴먼\n",
        "    - 니코모 챗봇\n",
        "- 보이스봇\n",
        "- 자연어처리 알고리즘\n",
        "    - BERT : Q&A\n",
        "    - GPT-3 : 생성\n",
        "- 디스플레이 봇\n",
        "- 딥러닝 봇"
      ]
    },
    {
      "cell_type": "markdown",
      "metadata": {
        "id": "sxisYdbLe3A3"
      },
      "source": [
        "**챗봇의 종류**"
      ]
    },
    {
      "cell_type": "markdown",
      "metadata": {
        "id": "mmhFX2M1e7s-"
      },
      "source": [
        "- 기술적용에 따른 챗봇 종류\n",
        "    - 시나리오 방식(정한 흐름대로)\n",
        "    - 검색방식(질문과 답)\n",
        "    - 언어 이해방식(사용자 의도까지 이해)\n",
        "- 대화 범위에 따른 챗봇 종류\n",
        "    - closed domain : 주제한정 ex)은행업무 봇, 예약 봇\n",
        "    - open domain : 주제가 한정되지 않고 사람처럼 대화 가능한 챗봇 ex) 심심이\n",
        "\n",
        "- 빌더 종류\n",
        "    - 카카오톡의 오픈빌더\n",
        "    - 네이버의 클로바 챗봇빌더\n",
        "    - LG의 단비 AI\n",
        "    - 구글의 Dialog Flow"
      ]
    },
    {
      "cell_type": "markdown",
      "metadata": {
        "id": "EWFimcyWgh6u"
      },
      "source": [
        "**기존의 웹/앱 대비 챗봇은**\n",
        "- 새로운 사용자 경험을 줄 수 있음\n"
      ]
    },
    {
      "cell_type": "markdown",
      "metadata": {
        "id": "n5NYv7fag367"
      },
      "source": [
        "\n",
        "### **팀 프로젝트**\n",
        "- 팀명&챗봇명 : 빵떡이(빵도먹고 떡도먹는)\n",
        "- 주제 : CLOSED Domain으로 된 고객센터 CS 챗봇\n",
        "- 이해인 팀원님이 필요로 하는 CS챗봇"
      ]
    },
    {
      "cell_type": "markdown",
      "metadata": {
        "id": "sdj8nMIg3p02"
      },
      "source": [
        "기획단계\n",
        "- 오늘 만들고싶은 유사한 사이트가 필요\n",
        "- 잘 정리된 카페사이트, 고객센터 등을 정해서 -> 대 주제를 뽑아낸다.\n",
        "- 그 다음 뼈대로 만들어 살을 붙인다.\n",
        "\n"
      ]
    },
    {
      "cell_type": "markdown",
      "metadata": {
        "id": "18rGihFZ-SoB"
      },
      "source": [
        "- Depth1 \n",
        "    - intent(제일 처음에 분류 해야 할 것)\n",
        "    - ex)환영메세지나, 어떠한 경우로 찾아왔는지에대한 정보\n",
        "    - ex2) 어린이 대공원이라면, 이용시간, 찾아오는길 운영안내, 참여, 공단소개 등등...\n",
        "    "
      ]
    },
    {
      "cell_type": "markdown",
      "metadata": {
        "id": "D5xubmZW-kag"
      },
      "source": [
        "- 웰컴블록 : 환영인사(처음 들어올 때의 봇 응답)\n",
        "- 폴백블록 : 에러시 나오는 문장(잘 모르겠어요 등...)\n",
        "- 배포 : 내가 작업한 내용이 카카오 챗봇에 반영이 되는 것\n"
      ]
    },
    {
      "cell_type": "code",
      "metadata": {
        "id": "neMhvIUilGnO"
      },
      "source": [
        ""
      ],
      "execution_count": null,
      "outputs": []
    },
    {
      "cell_type": "code",
      "metadata": {
        "id": "jVM5sMBElGpP"
      },
      "source": [
        ""
      ],
      "execution_count": null,
      "outputs": []
    },
    {
      "cell_type": "code",
      "metadata": {
        "id": "UTxApbnxlGrd"
      },
      "source": [
        ""
      ],
      "execution_count": null,
      "outputs": []
    },
    {
      "cell_type": "code",
      "metadata": {
        "id": "YB7d6982lGtt"
      },
      "source": [
        ""
      ],
      "execution_count": null,
      "outputs": []
    },
    {
      "cell_type": "code",
      "metadata": {
        "id": "2K8-1KJtlGvv"
      },
      "source": [
        ""
      ],
      "execution_count": null,
      "outputs": []
    },
    {
      "cell_type": "code",
      "metadata": {
        "id": "WUHhGVh8lGxx"
      },
      "source": [
        ""
      ],
      "execution_count": null,
      "outputs": []
    }
  ]
}